{
 "cells": [
  {
   "cell_type": "markdown",
   "id": "52ccc04b-a575-4f3a-8b77-886d01ec779f",
   "metadata": {},
   "source": [
    "# Pairs-Trading in the Automotive Industry\n",
    "This notebook aims to research possible highly correlated and cointegrated assets in the Consumer Discretionary sector, particularly the automotive industry. They will then be used in pairs trading to take advantage of statistical arbitrage in a mean-reversion strategy. Thereafter, backtests will be conducted to see their performance."
   ]
  },
  {
   "cell_type": "markdown",
   "id": "92b1956b-4d6b-4901-b504-dfb631a7dcd4",
   "metadata": {},
   "source": [
    "## Preparations"
   ]
  },
  {
   "cell_type": "code",
   "execution_count": 2,
   "id": "6c05b680-121b-46fa-b060-a5d46ac8a771",
   "metadata": {},
   "outputs": [],
   "source": [
    "import numpy as np\n",
    "import yfinance as yf\n",
    "import pandas as pd\n",
    "import statsmodels.api as sm\n",
    "import matplotlib.pyplot as plt\n",
    "from statsmodels.tsa.stattools import coint"
   ]
  },
  {
   "cell_type": "markdown",
   "id": "92bf7504-b26e-463f-ba6f-8540638a3193",
   "metadata": {},
   "source": [
    "## 1. Universe and Stock Selection\n",
    "### 1.1 Retrieving data\n",
    "From the Consumer Discretionary sector, we filter out a list of automotive stocks, both traded in NYSE and NASDAQ. We then attain their tickers and store it in a list."
   ]
  },
  {
   "cell_type": "code",
   "execution_count": 3,
   "id": "4dff3659-bcc5-4339-9425-c4df070add5b",
   "metadata": {},
   "outputs": [],
   "source": [
    "NYSE = pd.read_excel('NYSE_Auto.xls')\n",
    "NASDAQ = pd.read_excel('NASDAQ_Auto.xls')\n",
    "\n",
    "# Remove nan value\n",
    "NYSE = NYSE[:-1]\n",
    "NASDAQ = NASDAQ[:-1]"
   ]
  },
  {
   "cell_type": "code",
   "execution_count": 4,
   "id": "e94fa4a9-bdd5-487c-b6a2-2ce41297a049",
   "metadata": {},
   "outputs": [
    {
     "data": {
      "text/html": [
       "<div>\n",
       "<style scoped>\n",
       "    .dataframe tbody tr th:only-of-type {\n",
       "        vertical-align: middle;\n",
       "    }\n",
       "\n",
       "    .dataframe tbody tr th {\n",
       "        vertical-align: top;\n",
       "    }\n",
       "\n",
       "    .dataframe thead th {\n",
       "        text-align: right;\n",
       "    }\n",
       "</style>\n",
       "<table border=\"1\" class=\"dataframe\">\n",
       "  <thead>\n",
       "    <tr style=\"text-align: right;\">\n",
       "      <th></th>\n",
       "      <th>S.No.</th>\n",
       "      <th>Company Name</th>\n",
       "      <th>Ticker</th>\n",
       "      <th>Country</th>\n",
       "    </tr>\n",
       "  </thead>\n",
       "  <tbody>\n",
       "    <tr>\n",
       "      <th>0</th>\n",
       "      <td>1.0</td>\n",
       "      <td>Ferrari N.V.</td>\n",
       "      <td>RACE</td>\n",
       "      <td>Italy</td>\n",
       "    </tr>\n",
       "    <tr>\n",
       "      <th>1</th>\n",
       "      <td>2.0</td>\n",
       "      <td>Fisker Inc.</td>\n",
       "      <td>FSR</td>\n",
       "      <td>USA</td>\n",
       "    </tr>\n",
       "    <tr>\n",
       "      <th>2</th>\n",
       "      <td>3.0</td>\n",
       "      <td>Ford Motor Company</td>\n",
       "      <td>F</td>\n",
       "      <td>USA</td>\n",
       "    </tr>\n",
       "    <tr>\n",
       "      <th>3</th>\n",
       "      <td>4.0</td>\n",
       "      <td>General Motors Company</td>\n",
       "      <td>GM</td>\n",
       "      <td>USA</td>\n",
       "    </tr>\n",
       "    <tr>\n",
       "      <th>4</th>\n",
       "      <td>5.0</td>\n",
       "      <td>Honda Motor Company Ltd.</td>\n",
       "      <td>HMC</td>\n",
       "      <td>Japan</td>\n",
       "    </tr>\n",
       "    <tr>\n",
       "      <th>5</th>\n",
       "      <td>6.0</td>\n",
       "      <td>Oshkosh Corporation</td>\n",
       "      <td>OSK</td>\n",
       "      <td>USA</td>\n",
       "    </tr>\n",
       "    <tr>\n",
       "      <th>6</th>\n",
       "      <td>7.0</td>\n",
       "      <td>Stellantis N.V.</td>\n",
       "      <td>STLA</td>\n",
       "      <td>United Kingdom</td>\n",
       "    </tr>\n",
       "    <tr>\n",
       "      <th>7</th>\n",
       "      <td>8.0</td>\n",
       "      <td>Tata Motors Ltd</td>\n",
       "      <td>TTM</td>\n",
       "      <td>India</td>\n",
       "    </tr>\n",
       "    <tr>\n",
       "      <th>8</th>\n",
       "      <td>9.0</td>\n",
       "      <td>Toyota Motor Corporation</td>\n",
       "      <td>TM</td>\n",
       "      <td>Japan</td>\n",
       "    </tr>\n",
       "    <tr>\n",
       "      <th>9</th>\n",
       "      <td>10.0</td>\n",
       "      <td>XPeng Inc.</td>\n",
       "      <td>XPEV</td>\n",
       "      <td>China</td>\n",
       "    </tr>\n",
       "  </tbody>\n",
       "</table>\n",
       "</div>"
      ],
      "text/plain": [
       "   S.No.               Company Name Ticker         Country\n",
       "0    1.0              Ferrari N.V.    RACE           Italy\n",
       "1    2.0               Fisker Inc.     FSR             USA\n",
       "2    3.0        Ford Motor Company       F             USA\n",
       "3    4.0    General Motors Company      GM             USA\n",
       "4    5.0  Honda Motor Company Ltd.     HMC           Japan\n",
       "5    6.0       Oshkosh Corporation     OSK             USA\n",
       "6    7.0           Stellantis N.V.    STLA  United Kingdom\n",
       "7    8.0           Tata Motors Ltd     TTM           India\n",
       "8    9.0  Toyota Motor Corporation      TM           Japan\n",
       "9   10.0                XPeng Inc.    XPEV           China"
      ]
     },
     "execution_count": 4,
     "metadata": {},
     "output_type": "execute_result"
    }
   ],
   "source": [
    "NYSE"
   ]
  },
  {
   "cell_type": "code",
   "execution_count": 5,
   "id": "7afcc34d-5f71-447a-8e15-1462895ad9ad",
   "metadata": {},
   "outputs": [
    {
     "data": {
      "text/html": [
       "<div>\n",
       "<style scoped>\n",
       "    .dataframe tbody tr th:only-of-type {\n",
       "        vertical-align: middle;\n",
       "    }\n",
       "\n",
       "    .dataframe tbody tr th {\n",
       "        vertical-align: top;\n",
       "    }\n",
       "\n",
       "    .dataframe thead th {\n",
       "        text-align: right;\n",
       "    }\n",
       "</style>\n",
       "<table border=\"1\" class=\"dataframe\">\n",
       "  <thead>\n",
       "    <tr style=\"text-align: right;\">\n",
       "      <th></th>\n",
       "      <th>S.No.</th>\n",
       "      <th>Company</th>\n",
       "      <th>Ticker</th>\n",
       "      <th>Country</th>\n",
       "    </tr>\n",
       "  </thead>\n",
       "  <tbody>\n",
       "    <tr>\n",
       "      <th>0</th>\n",
       "      <td>1.0</td>\n",
       "      <td>Electrameccanica Vehicles Corp. Ltd.</td>\n",
       "      <td>SOLO</td>\n",
       "      <td>Canada</td>\n",
       "    </tr>\n",
       "    <tr>\n",
       "      <th>1</th>\n",
       "      <td>2.0</td>\n",
       "      <td>Ideanomics Inc.</td>\n",
       "      <td>IDEX</td>\n",
       "      <td>USA</td>\n",
       "    </tr>\n",
       "    <tr>\n",
       "      <th>2</th>\n",
       "      <td>3.0</td>\n",
       "      <td>Kandi Technologies Group Inc</td>\n",
       "      <td>KNDI</td>\n",
       "      <td>China</td>\n",
       "    </tr>\n",
       "    <tr>\n",
       "      <th>3</th>\n",
       "      <td>4.0</td>\n",
       "      <td>Li Auto Inc.</td>\n",
       "      <td>LI</td>\n",
       "      <td>China</td>\n",
       "    </tr>\n",
       "    <tr>\n",
       "      <th>4</th>\n",
       "      <td>5.0</td>\n",
       "      <td>Lordstown Motors Corp.</td>\n",
       "      <td>RIDE</td>\n",
       "      <td>USA</td>\n",
       "    </tr>\n",
       "    <tr>\n",
       "      <th>5</th>\n",
       "      <td>6.0</td>\n",
       "      <td>Nikola Corporation</td>\n",
       "      <td>NKLA</td>\n",
       "      <td>USA</td>\n",
       "    </tr>\n",
       "    <tr>\n",
       "      <th>6</th>\n",
       "      <td>7.0</td>\n",
       "      <td>Niu Technologies</td>\n",
       "      <td>NIU</td>\n",
       "      <td>China</td>\n",
       "    </tr>\n",
       "    <tr>\n",
       "      <th>7</th>\n",
       "      <td>8.0</td>\n",
       "      <td>PACCAR Inc.</td>\n",
       "      <td>PCAR</td>\n",
       "      <td>USA</td>\n",
       "    </tr>\n",
       "    <tr>\n",
       "      <th>8</th>\n",
       "      <td>9.0</td>\n",
       "      <td>Tesla Inc.</td>\n",
       "      <td>TSLA</td>\n",
       "      <td>USA</td>\n",
       "    </tr>\n",
       "    <tr>\n",
       "      <th>9</th>\n",
       "      <td>10.0</td>\n",
       "      <td>The Shyft Group Inc.</td>\n",
       "      <td>SHYF</td>\n",
       "      <td>USA</td>\n",
       "    </tr>\n",
       "    <tr>\n",
       "      <th>10</th>\n",
       "      <td>11.0</td>\n",
       "      <td>Workhorse Group Inc.</td>\n",
       "      <td>WKHS</td>\n",
       "      <td>USA</td>\n",
       "    </tr>\n",
       "  </tbody>\n",
       "</table>\n",
       "</div>"
      ],
      "text/plain": [
       "    S.No.                               Company Ticker Country\n",
       "0     1.0  Electrameccanica Vehicles Corp. Ltd.   SOLO  Canada\n",
       "1     2.0                       Ideanomics Inc.   IDEX     USA\n",
       "2     3.0          Kandi Technologies Group Inc   KNDI   China\n",
       "3     4.0                          Li Auto Inc.     LI   China\n",
       "4     5.0                Lordstown Motors Corp.   RIDE     USA\n",
       "5     6.0                    Nikola Corporation   NKLA     USA\n",
       "6     7.0                      Niu Technologies    NIU   China\n",
       "7     8.0                           PACCAR Inc.   PCAR     USA\n",
       "8     9.0                            Tesla Inc.   TSLA     USA\n",
       "9    10.0                  The Shyft Group Inc.   SHYF     USA\n",
       "10   11.0                  Workhorse Group Inc.   WKHS     USA"
      ]
     },
     "execution_count": 5,
     "metadata": {},
     "output_type": "execute_result"
    }
   ],
   "source": [
    "NASDAQ"
   ]
  },
  {
   "cell_type": "code",
   "execution_count": 6,
   "id": "c4834edb-e18c-43ad-9042-c9343eac301f",
   "metadata": {},
   "outputs": [
    {
     "data": {
      "text/plain": [
       "['SOLO',\n",
       " 'IDEX',\n",
       " 'KNDI',\n",
       " 'LI',\n",
       " 'RIDE',\n",
       " 'NKLA',\n",
       " 'NIU',\n",
       " 'PCAR',\n",
       " 'TSLA',\n",
       " 'SHYF',\n",
       " 'WKHS',\n",
       " 'RACE',\n",
       " 'FSR',\n",
       " 'F',\n",
       " 'GM',\n",
       " 'HMC',\n",
       " 'OSK',\n",
       " 'STLA',\n",
       " 'TTM',\n",
       " 'TM',\n",
       " 'XPEV']"
      ]
     },
     "execution_count": 6,
     "metadata": {},
     "output_type": "execute_result"
    }
   ],
   "source": [
    "# Converting tickers to a list\n",
    "tickers = NASDAQ['Ticker'].tolist() + NYSE['Ticker'].tolist()\n",
    "tickers"
   ]
  },
  {
   "cell_type": "markdown",
   "id": "6b2b186e-0146-43bf-9e55-4a2f0729c0df",
   "metadata": {},
   "source": [
    "Here, we get the historical data for automobiles in the past 10 years. We split the data set into a test and training set"
   ]
  },
  {
   "cell_type": "code",
   "execution_count": 7,
   "id": "43099ee0-b34a-41cf-bca0-3810d8e0dec0",
   "metadata": {},
   "outputs": [
    {
     "name": "stdout",
     "output_type": "stream",
     "text": [
      "[*********************100%***********************]  21 of 21 completed\n"
     ]
    }
   ],
   "source": [
    "# Training set\n",
    "start = '2012-01-01'\n",
    "end = '2022-04-01'\n",
    "prices = yf.download(tickers, start=start, end=end)['Adj Close']\n",
    "\n",
    "train = np.arange(0, 1260) # trading days in 5 years\n",
    "test = np.arange(train.shape[0], prices.shape[0])"
   ]
  },
  {
   "cell_type": "markdown",
   "id": "f910bae4-f681-4d7a-a393-28f263317aee",
   "metadata": {},
   "source": [
    "### 1.2 Cleaning up data\n",
    "As there are a couple tickers with significantly insuffcient historical data, we remove them from our universe. They present insufficient data and which might result in data-snooping bias during backtesting, hence their removal."
   ]
  },
  {
   "cell_type": "code",
   "execution_count": 8,
   "id": "ab5cb8f0-9d8b-4875-a2d0-92ee096480ef",
   "metadata": {},
   "outputs": [
    {
     "data": {
      "text/html": [
       "<div>\n",
       "<style scoped>\n",
       "    .dataframe tbody tr th:only-of-type {\n",
       "        vertical-align: middle;\n",
       "    }\n",
       "\n",
       "    .dataframe tbody tr th {\n",
       "        vertical-align: top;\n",
       "    }\n",
       "\n",
       "    .dataframe thead th {\n",
       "        text-align: right;\n",
       "    }\n",
       "</style>\n",
       "<table border=\"1\" class=\"dataframe\">\n",
       "  <thead>\n",
       "    <tr style=\"text-align: right;\">\n",
       "      <th></th>\n",
       "      <th>F</th>\n",
       "      <th>GM</th>\n",
       "      <th>HMC</th>\n",
       "      <th>IDEX</th>\n",
       "      <th>KNDI</th>\n",
       "      <th>OSK</th>\n",
       "      <th>PCAR</th>\n",
       "      <th>SHYF</th>\n",
       "      <th>STLA</th>\n",
       "      <th>TM</th>\n",
       "      <th>TSLA</th>\n",
       "      <th>TTM</th>\n",
       "      <th>WKHS</th>\n",
       "    </tr>\n",
       "    <tr>\n",
       "      <th>Date</th>\n",
       "      <th></th>\n",
       "      <th></th>\n",
       "      <th></th>\n",
       "      <th></th>\n",
       "      <th></th>\n",
       "      <th></th>\n",
       "      <th></th>\n",
       "      <th></th>\n",
       "      <th></th>\n",
       "      <th></th>\n",
       "      <th></th>\n",
       "      <th></th>\n",
       "      <th></th>\n",
       "    </tr>\n",
       "  </thead>\n",
       "  <tbody>\n",
       "    <tr>\n",
       "      <th>2012-01-03</th>\n",
       "      <td>7.345917</td>\n",
       "      <td>16.232349</td>\n",
       "      <td>31.190945</td>\n",
       "      <td>4.50</td>\n",
       "      <td>3.51</td>\n",
       "      <td>19.722410</td>\n",
       "      <td>26.936165</td>\n",
       "      <td>4.408649</td>\n",
       "      <td>2.012491</td>\n",
       "      <td>59.586105</td>\n",
       "      <td>1.872000</td>\n",
       "      <td>17.598068</td>\n",
       "      <td>4.90</td>\n",
       "    </tr>\n",
       "    <tr>\n",
       "      <th>2012-01-04</th>\n",
       "      <td>7.458116</td>\n",
       "      <td>16.309464</td>\n",
       "      <td>31.449707</td>\n",
       "      <td>4.50</td>\n",
       "      <td>3.18</td>\n",
       "      <td>20.153458</td>\n",
       "      <td>26.832043</td>\n",
       "      <td>4.347421</td>\n",
       "      <td>2.141897</td>\n",
       "      <td>60.157528</td>\n",
       "      <td>1.847333</td>\n",
       "      <td>18.258846</td>\n",
       "      <td>4.30</td>\n",
       "    </tr>\n",
       "    <tr>\n",
       "      <th>2012-01-05</th>\n",
       "      <td>7.649522</td>\n",
       "      <td>17.096020</td>\n",
       "      <td>31.728374</td>\n",
       "      <td>4.50</td>\n",
       "      <td>3.12</td>\n",
       "      <td>20.188646</td>\n",
       "      <td>28.019171</td>\n",
       "      <td>4.452386</td>\n",
       "      <td>2.141897</td>\n",
       "      <td>60.324558</td>\n",
       "      <td>1.808000</td>\n",
       "      <td>18.560080</td>\n",
       "      <td>3.10</td>\n",
       "    </tr>\n",
       "    <tr>\n",
       "      <th>2012-01-06</th>\n",
       "      <td>7.728722</td>\n",
       "      <td>17.674370</td>\n",
       "      <td>31.977188</td>\n",
       "      <td>4.50</td>\n",
       "      <td>3.19</td>\n",
       "      <td>20.329390</td>\n",
       "      <td>27.866440</td>\n",
       "      <td>4.426146</td>\n",
       "      <td>2.141897</td>\n",
       "      <td>60.227856</td>\n",
       "      <td>1.794000</td>\n",
       "      <td>18.511494</td>\n",
       "      <td>4.50</td>\n",
       "    </tr>\n",
       "    <tr>\n",
       "      <th>2012-01-09</th>\n",
       "      <td>7.788121</td>\n",
       "      <td>17.612679</td>\n",
       "      <td>31.897566</td>\n",
       "      <td>4.50</td>\n",
       "      <td>3.36</td>\n",
       "      <td>20.945164</td>\n",
       "      <td>28.199665</td>\n",
       "      <td>4.303682</td>\n",
       "      <td>2.159747</td>\n",
       "      <td>60.148739</td>\n",
       "      <td>1.816667</td>\n",
       "      <td>18.589233</td>\n",
       "      <td>4.50</td>\n",
       "    </tr>\n",
       "    <tr>\n",
       "      <th>...</th>\n",
       "      <td>...</td>\n",
       "      <td>...</td>\n",
       "      <td>...</td>\n",
       "      <td>...</td>\n",
       "      <td>...</td>\n",
       "      <td>...</td>\n",
       "      <td>...</td>\n",
       "      <td>...</td>\n",
       "      <td>...</td>\n",
       "      <td>...</td>\n",
       "      <td>...</td>\n",
       "      <td>...</td>\n",
       "      <td>...</td>\n",
       "    </tr>\n",
       "    <tr>\n",
       "      <th>2022-03-25</th>\n",
       "      <td>16.199577</td>\n",
       "      <td>43.550571</td>\n",
       "      <td>28.440001</td>\n",
       "      <td>0.92</td>\n",
       "      <td>2.94</td>\n",
       "      <td>106.626854</td>\n",
       "      <td>88.295868</td>\n",
       "      <td>38.057388</td>\n",
       "      <td>14.681528</td>\n",
       "      <td>178.429993</td>\n",
       "      <td>336.880005</td>\n",
       "      <td>28.400000</td>\n",
       "      <td>4.33</td>\n",
       "    </tr>\n",
       "    <tr>\n",
       "      <th>2022-03-28</th>\n",
       "      <td>16.396296</td>\n",
       "      <td>44.119270</td>\n",
       "      <td>28.200001</td>\n",
       "      <td>0.95</td>\n",
       "      <td>3.03</td>\n",
       "      <td>105.149506</td>\n",
       "      <td>88.623375</td>\n",
       "      <td>38.784473</td>\n",
       "      <td>14.737070</td>\n",
       "      <td>177.850006</td>\n",
       "      <td>363.946655</td>\n",
       "      <td>28.540001</td>\n",
       "      <td>4.43</td>\n",
       "    </tr>\n",
       "    <tr>\n",
       "      <th>2022-03-29</th>\n",
       "      <td>17.458561</td>\n",
       "      <td>46.154621</td>\n",
       "      <td>29.049999</td>\n",
       "      <td>1.04</td>\n",
       "      <td>3.32</td>\n",
       "      <td>107.886063</td>\n",
       "      <td>90.260864</td>\n",
       "      <td>40.069321</td>\n",
       "      <td>15.810877</td>\n",
       "      <td>184.809998</td>\n",
       "      <td>366.523346</td>\n",
       "      <td>29.150000</td>\n",
       "      <td>4.96</td>\n",
       "    </tr>\n",
       "    <tr>\n",
       "      <th>2022-03-30</th>\n",
       "      <td>16.986444</td>\n",
       "      <td>45.116993</td>\n",
       "      <td>28.540001</td>\n",
       "      <td>1.04</td>\n",
       "      <td>3.49</td>\n",
       "      <td>105.615509</td>\n",
       "      <td>88.722618</td>\n",
       "      <td>37.828304</td>\n",
       "      <td>15.542426</td>\n",
       "      <td>180.619995</td>\n",
       "      <td>364.663330</td>\n",
       "      <td>28.250000</td>\n",
       "      <td>5.03</td>\n",
       "    </tr>\n",
       "    <tr>\n",
       "      <th>2022-03-31</th>\n",
       "      <td>16.632353</td>\n",
       "      <td>43.640366</td>\n",
       "      <td>28.260000</td>\n",
       "      <td>1.12</td>\n",
       "      <td>3.20</td>\n",
       "      <td>99.795357</td>\n",
       "      <td>87.402687</td>\n",
       "      <td>35.965775</td>\n",
       "      <td>15.061064</td>\n",
       "      <td>180.250000</td>\n",
       "      <td>359.200012</td>\n",
       "      <td>27.950001</td>\n",
       "      <td>5.00</td>\n",
       "    </tr>\n",
       "  </tbody>\n",
       "</table>\n",
       "<p>2579 rows × 13 columns</p>\n",
       "</div>"
      ],
      "text/plain": [
       "                    F         GM        HMC  IDEX  KNDI         OSK  \\\n",
       "Date                                                                  \n",
       "2012-01-03   7.345917  16.232349  31.190945  4.50  3.51   19.722410   \n",
       "2012-01-04   7.458116  16.309464  31.449707  4.50  3.18   20.153458   \n",
       "2012-01-05   7.649522  17.096020  31.728374  4.50  3.12   20.188646   \n",
       "2012-01-06   7.728722  17.674370  31.977188  4.50  3.19   20.329390   \n",
       "2012-01-09   7.788121  17.612679  31.897566  4.50  3.36   20.945164   \n",
       "...               ...        ...        ...   ...   ...         ...   \n",
       "2022-03-25  16.199577  43.550571  28.440001  0.92  2.94  106.626854   \n",
       "2022-03-28  16.396296  44.119270  28.200001  0.95  3.03  105.149506   \n",
       "2022-03-29  17.458561  46.154621  29.049999  1.04  3.32  107.886063   \n",
       "2022-03-30  16.986444  45.116993  28.540001  1.04  3.49  105.615509   \n",
       "2022-03-31  16.632353  43.640366  28.260000  1.12  3.20   99.795357   \n",
       "\n",
       "                 PCAR       SHYF       STLA          TM        TSLA  \\\n",
       "Date                                                                  \n",
       "2012-01-03  26.936165   4.408649   2.012491   59.586105    1.872000   \n",
       "2012-01-04  26.832043   4.347421   2.141897   60.157528    1.847333   \n",
       "2012-01-05  28.019171   4.452386   2.141897   60.324558    1.808000   \n",
       "2012-01-06  27.866440   4.426146   2.141897   60.227856    1.794000   \n",
       "2012-01-09  28.199665   4.303682   2.159747   60.148739    1.816667   \n",
       "...               ...        ...        ...         ...         ...   \n",
       "2022-03-25  88.295868  38.057388  14.681528  178.429993  336.880005   \n",
       "2022-03-28  88.623375  38.784473  14.737070  177.850006  363.946655   \n",
       "2022-03-29  90.260864  40.069321  15.810877  184.809998  366.523346   \n",
       "2022-03-30  88.722618  37.828304  15.542426  180.619995  364.663330   \n",
       "2022-03-31  87.402687  35.965775  15.061064  180.250000  359.200012   \n",
       "\n",
       "                  TTM  WKHS  \n",
       "Date                         \n",
       "2012-01-03  17.598068  4.90  \n",
       "2012-01-04  18.258846  4.30  \n",
       "2012-01-05  18.560080  3.10  \n",
       "2012-01-06  18.511494  4.50  \n",
       "2012-01-09  18.589233  4.50  \n",
       "...               ...   ...  \n",
       "2022-03-25  28.400000  4.33  \n",
       "2022-03-28  28.540001  4.43  \n",
       "2022-03-29  29.150000  4.96  \n",
       "2022-03-30  28.250000  5.03  \n",
       "2022-03-31  27.950001  5.00  \n",
       "\n",
       "[2579 rows x 13 columns]"
      ]
     },
     "execution_count": 8,
     "metadata": {},
     "output_type": "execute_result"
    }
   ],
   "source": [
    "prices = prices.dropna(axis=1)\n",
    "prices"
   ]
  },
  {
   "cell_type": "markdown",
   "id": "e060b3ca-e072-4421-9c2d-4d0c1c629f12",
   "metadata": {},
   "source": [
    "### 1.3 Finding Potential Pairs\n",
    "We find the spearman correlation coefficient here in our universe to determine which stocks are highly correlated to one another, as visualised via a heatmap. The coefficients are calculated using the training set (first 5 years of historical data). Afterwards, we selectively pick out pairs that have a correlaton coefficient >= 0.7."
   ]
  },
  {
   "cell_type": "code",
   "execution_count": 9,
   "id": "81c0f2a8-4bd1-4d2f-a770-b3078d876d06",
   "metadata": {},
   "outputs": [],
   "source": [
    "# Correlation heatmap\n",
    "def correlation_matrix(df, is_plot=False):\n",
    "    \n",
    "    # Get feature correlations and transform to dataframe\n",
    "    correlated = df.corr(method='spearman')\n",
    "\n",
    "    if is_plot:\n",
    "        plt.figure(figsize=(10, 10))\n",
    "        plt.imshow(correlated, cmap='RdYlGn', interpolation='none', aspect='auto')\n",
    "        plt.colorbar()\n",
    "        plt.xticks(range(len(correlated)), correlated.columns, rotation='vertical')\n",
    "        plt.yticks(range(len(correlated)), correlated.columns);\n",
    "        plt.suptitle('Spearman Correlation Heat Map', fontsize=15, fontweight='bold')\n",
    "        plt.show()\n",
    "\n",
    "    return correlated"
   ]
  },
  {
   "cell_type": "code",
   "execution_count": 10,
   "id": "bb97b19f-f76e-4dba-b2c3-7ab7e0f71b3c",
   "metadata": {},
   "outputs": [
    {
     "data": {
      "image/png": "[encoded data removed]",
      "text/plain": [
       "<Figure size 720x720 with 2 Axes>"
      ]
     },
     "metadata": {
      "needs_background": "light"
     },
     "output_type": "display_data"
    }
   ],
   "source": [
    "corr = correlation_matrix(prices.iloc[train], is_plot=True)"
   ]
  },
  {
   "cell_type": "code",
   "execution_count": 11,
   "id": "626e6ca1-85d0-4c58-ade2-3f376fcdb19d",
   "metadata": {},
   "outputs": [
    {
     "data": {
      "text/html": [
       "<div>\n",
       "<style scoped>\n",
       "    .dataframe tbody tr th:only-of-type {\n",
       "        vertical-align: middle;\n",
       "    }\n",
       "\n",
       "    .dataframe tbody tr th {\n",
       "        vertical-align: top;\n",
       "    }\n",
       "\n",
       "    .dataframe thead th {\n",
       "        text-align: right;\n",
       "    }\n",
       "</style>\n",
       "<table border=\"1\" class=\"dataframe\">\n",
       "  <thead>\n",
       "    <tr style=\"text-align: right;\">\n",
       "      <th></th>\n",
       "      <th>F</th>\n",
       "      <th>GM</th>\n",
       "      <th>HMC</th>\n",
       "      <th>IDEX</th>\n",
       "      <th>KNDI</th>\n",
       "      <th>OSK</th>\n",
       "      <th>PCAR</th>\n",
       "      <th>SHYF</th>\n",
       "      <th>STLA</th>\n",
       "      <th>TM</th>\n",
       "      <th>TSLA</th>\n",
       "      <th>TTM</th>\n",
       "      <th>WKHS</th>\n",
       "    </tr>\n",
       "  </thead>\n",
       "  <tbody>\n",
       "    <tr>\n",
       "      <th>F</th>\n",
       "      <td>1.000000</td>\n",
       "      <td>0.784817</td>\n",
       "      <td>0.284870</td>\n",
       "      <td>-0.070753</td>\n",
       "      <td>0.737593</td>\n",
       "      <td>0.632291</td>\n",
       "      <td>0.653882</td>\n",
       "      <td>0.159061</td>\n",
       "      <td>0.579754</td>\n",
       "      <td>0.682591</td>\n",
       "      <td>0.590618</td>\n",
       "      <td>0.577660</td>\n",
       "      <td>-0.129881</td>\n",
       "    </tr>\n",
       "    <tr>\n",
       "      <th>GM</th>\n",
       "      <td>0.784817</td>\n",
       "      <td>1.000000</td>\n",
       "      <td>0.120266</td>\n",
       "      <td>-0.208207</td>\n",
       "      <td>0.623883</td>\n",
       "      <td>0.775980</td>\n",
       "      <td>0.681193</td>\n",
       "      <td>0.301410</td>\n",
       "      <td>0.651268</td>\n",
       "      <td>0.782160</td>\n",
       "      <td>0.515234</td>\n",
       "      <td>0.601950</td>\n",
       "      <td>0.122189</td>\n",
       "    </tr>\n",
       "    <tr>\n",
       "      <th>HMC</th>\n",
       "      <td>0.284870</td>\n",
       "      <td>0.120266</td>\n",
       "      <td>1.000000</td>\n",
       "      <td>0.202403</td>\n",
       "      <td>-0.084163</td>\n",
       "      <td>-0.045946</td>\n",
       "      <td>-0.212155</td>\n",
       "      <td>0.176552</td>\n",
       "      <td>-0.330500</td>\n",
       "      <td>-0.024003</td>\n",
       "      <td>-0.312986</td>\n",
       "      <td>-0.130448</td>\n",
       "      <td>-0.416786</td>\n",
       "    </tr>\n",
       "    <tr>\n",
       "      <th>IDEX</th>\n",
       "      <td>-0.070753</td>\n",
       "      <td>-0.208207</td>\n",
       "      <td>0.202403</td>\n",
       "      <td>1.000000</td>\n",
       "      <td>0.072769</td>\n",
       "      <td>-0.237404</td>\n",
       "      <td>-0.157875</td>\n",
       "      <td>-0.289870</td>\n",
       "      <td>-0.180033</td>\n",
       "      <td>-0.327816</td>\n",
       "      <td>-0.192261</td>\n",
       "      <td>-0.085558</td>\n",
       "      <td>-0.612764</td>\n",
       "    </tr>\n",
       "    <tr>\n",
       "      <th>KNDI</th>\n",
       "      <td>0.737593</td>\n",
       "      <td>0.623883</td>\n",
       "      <td>-0.084163</td>\n",
       "      <td>0.072769</td>\n",
       "      <td>1.000000</td>\n",
       "      <td>0.619876</td>\n",
       "      <td>0.726769</td>\n",
       "      <td>-0.063003</td>\n",
       "      <td>0.680902</td>\n",
       "      <td>0.545587</td>\n",
       "      <td>0.744282</td>\n",
       "      <td>0.720869</td>\n",
       "      <td>-0.248066</td>\n",
       "    </tr>\n",
       "    <tr>\n",
       "      <th>OSK</th>\n",
       "      <td>0.632291</td>\n",
       "      <td>0.775980</td>\n",
       "      <td>-0.045946</td>\n",
       "      <td>-0.237404</td>\n",
       "      <td>0.619876</td>\n",
       "      <td>1.000000</td>\n",
       "      <td>0.800140</td>\n",
       "      <td>0.494575</td>\n",
       "      <td>0.553300</td>\n",
       "      <td>0.560991</td>\n",
       "      <td>0.568321</td>\n",
       "      <td>0.734513</td>\n",
       "      <td>0.034319</td>\n",
       "    </tr>\n",
       "    <tr>\n",
       "      <th>PCAR</th>\n",
       "      <td>0.653882</td>\n",
       "      <td>0.681193</td>\n",
       "      <td>-0.212155</td>\n",
       "      <td>-0.157875</td>\n",
       "      <td>0.726769</td>\n",
       "      <td>0.800140</td>\n",
       "      <td>1.000000</td>\n",
       "      <td>0.222165</td>\n",
       "      <td>0.799574</td>\n",
       "      <td>0.702295</td>\n",
       "      <td>0.774390</td>\n",
       "      <td>0.800064</td>\n",
       "      <td>0.030455</td>\n",
       "    </tr>\n",
       "    <tr>\n",
       "      <th>SHYF</th>\n",
       "      <td>0.159061</td>\n",
       "      <td>0.301410</td>\n",
       "      <td>0.176552</td>\n",
       "      <td>-0.289870</td>\n",
       "      <td>-0.063003</td>\n",
       "      <td>0.494575</td>\n",
       "      <td>0.222165</td>\n",
       "      <td>1.000000</td>\n",
       "      <td>-0.109986</td>\n",
       "      <td>0.113242</td>\n",
       "      <td>-0.089236</td>\n",
       "      <td>0.259846</td>\n",
       "      <td>0.136614</td>\n",
       "    </tr>\n",
       "    <tr>\n",
       "      <th>STLA</th>\n",
       "      <td>0.579754</td>\n",
       "      <td>0.651268</td>\n",
       "      <td>-0.330500</td>\n",
       "      <td>-0.180033</td>\n",
       "      <td>0.680902</td>\n",
       "      <td>0.553300</td>\n",
       "      <td>0.799574</td>\n",
       "      <td>-0.109986</td>\n",
       "      <td>1.000000</td>\n",
       "      <td>0.774553</td>\n",
       "      <td>0.813897</td>\n",
       "      <td>0.593299</td>\n",
       "      <td>0.281690</td>\n",
       "    </tr>\n",
       "    <tr>\n",
       "      <th>TM</th>\n",
       "      <td>0.682591</td>\n",
       "      <td>0.782160</td>\n",
       "      <td>-0.024003</td>\n",
       "      <td>-0.327816</td>\n",
       "      <td>0.545587</td>\n",
       "      <td>0.560991</td>\n",
       "      <td>0.702295</td>\n",
       "      <td>0.113242</td>\n",
       "      <td>0.774553</td>\n",
       "      <td>1.000000</td>\n",
       "      <td>0.620198</td>\n",
       "      <td>0.561679</td>\n",
       "      <td>0.270137</td>\n",
       "    </tr>\n",
       "    <tr>\n",
       "      <th>TSLA</th>\n",
       "      <td>0.590618</td>\n",
       "      <td>0.515234</td>\n",
       "      <td>-0.312986</td>\n",
       "      <td>-0.192261</td>\n",
       "      <td>0.744282</td>\n",
       "      <td>0.568321</td>\n",
       "      <td>0.774390</td>\n",
       "      <td>-0.089236</td>\n",
       "      <td>0.813897</td>\n",
       "      <td>0.620198</td>\n",
       "      <td>1.000000</td>\n",
       "      <td>0.641974</td>\n",
       "      <td>0.160386</td>\n",
       "    </tr>\n",
       "    <tr>\n",
       "      <th>TTM</th>\n",
       "      <td>0.577660</td>\n",
       "      <td>0.601950</td>\n",
       "      <td>-0.130448</td>\n",
       "      <td>-0.085558</td>\n",
       "      <td>0.720869</td>\n",
       "      <td>0.734513</td>\n",
       "      <td>0.800064</td>\n",
       "      <td>0.259846</td>\n",
       "      <td>0.593299</td>\n",
       "      <td>0.561679</td>\n",
       "      <td>0.641974</td>\n",
       "      <td>1.000000</td>\n",
       "      <td>-0.075455</td>\n",
       "    </tr>\n",
       "    <tr>\n",
       "      <th>WKHS</th>\n",
       "      <td>-0.129881</td>\n",
       "      <td>0.122189</td>\n",
       "      <td>-0.416786</td>\n",
       "      <td>-0.612764</td>\n",
       "      <td>-0.248066</td>\n",
       "      <td>0.034319</td>\n",
       "      <td>0.030455</td>\n",
       "      <td>0.136614</td>\n",
       "      <td>0.281690</td>\n",
       "      <td>0.270137</td>\n",
       "      <td>0.160386</td>\n",
       "      <td>-0.075455</td>\n",
       "      <td>1.000000</td>\n",
       "    </tr>\n",
       "  </tbody>\n",
       "</table>\n",
       "</div>"
      ],
      "text/plain": [
       "             F        GM       HMC      IDEX      KNDI       OSK      PCAR  \\\n",
       "F     1.000000  0.784817  0.284870 -0.070753  0.737593  0.632291  0.653882   \n",
       "GM    0.784817  1.000000  0.120266 -0.208207  0.623883  0.775980  0.681193   \n",
       "HMC   0.284870  0.120266  1.000000  0.202403 -0.084163 -0.045946 -0.212155   \n",
       "IDEX -0.070753 -0.208207  0.202403  1.000000  0.072769 -0.237404 -0.157875   \n",
       "KNDI  0.737593  0.623883 -0.084163  0.072769  1.000000  0.619876  0.726769   \n",
       "OSK   0.632291  0.775980 -0.045946 -0.237404  0.619876  1.000000  0.800140   \n",
       "PCAR  0.653882  0.681193 -0.212155 -0.157875  0.726769  0.800140  1.000000   \n",
       "SHYF  0.159061  0.301410  0.176552 -0.289870 -0.063003  0.494575  0.222165   \n",
       "STLA  0.579754  0.651268 -0.330500 -0.180033  0.680902  0.553300  0.799574   \n",
       "TM    0.682591  0.782160 -0.024003 -0.327816  0.545587  0.560991  0.702295   \n",
       "TSLA  0.590618  0.515234 -0.312986 -0.192261  0.744282  0.568321  0.774390   \n",
       "TTM   0.577660  0.601950 -0.130448 -0.085558  0.720869  0.734513  0.800064   \n",
       "WKHS -0.129881  0.122189 -0.416786 -0.612764 -0.248066  0.034319  0.030455   \n",
       "\n",
       "          SHYF      STLA        TM      TSLA       TTM      WKHS  \n",
       "F     0.159061  0.579754  0.682591  0.590618  0.577660 -0.129881  \n",
       "GM    0.301410  0.651268  0.782160  0.515234  0.601950  0.122189  \n",
       "HMC   0.176552 -0.330500 -0.024003 -0.312986 -0.130448 -0.416786  \n",
       "IDEX -0.289870 -0.180033 -0.327816 -0.192261 -0.085558 -0.612764  \n",
       "KNDI -0.063003  0.680902  0.545587  0.744282  0.720869 -0.248066  \n",
       "OSK   0.494575  0.553300  0.560991  0.568321  0.734513  0.034319  \n",
       "PCAR  0.222165  0.799574  0.702295  0.774390  0.800064  0.030455  \n",
       "SHYF  1.000000 -0.109986  0.113242 -0.089236  0.259846  0.136614  \n",
       "STLA -0.109986  1.000000  0.774553  0.813897  0.593299  0.281690  \n",
       "TM    0.113242  0.774553  1.000000  0.620198  0.561679  0.270137  \n",
       "TSLA -0.089236  0.813897  0.620198  1.000000  0.641974  0.160386  \n",
       "TTM   0.259846  0.593299  0.561679  0.641974  1.000000 -0.075455  \n",
       "WKHS  0.136614  0.281690  0.270137  0.160386 -0.075455  1.000000  "
      ]
     },
     "execution_count": 11,
     "metadata": {},
     "output_type": "execute_result"
    }
   ],
   "source": [
    "corr"
   ]
  },
  {
   "cell_type": "code",
   "execution_count": 12,
   "id": "bbd5e19f-cdbd-4e30-8fab-020f380a8a14",
   "metadata": {},
   "outputs": [
    {
     "data": {
      "text/plain": [
       "TM    PCAR    0.702295\n",
       "PCAR  TM      0.702295\n",
       "KNDI  TTM     0.720869\n",
       "TTM   KNDI    0.720869\n",
       "PCAR  KNDI    0.726769\n",
       "KNDI  PCAR    0.726769\n",
       "OSK   TTM     0.734513\n",
       "TTM   OSK     0.734513\n",
       "KNDI  F       0.737593\n",
       "F     KNDI    0.737593\n",
       "TSLA  KNDI    0.744282\n",
       "KNDI  TSLA    0.744282\n",
       "PCAR  TSLA    0.774390\n",
       "TSLA  PCAR    0.774390\n",
       "TM    STLA    0.774553\n",
       "STLA  TM      0.774553\n",
       "GM    OSK     0.775980\n",
       "OSK   GM      0.775980\n",
       "GM    TM      0.782160\n",
       "TM    GM      0.782160\n",
       "GM    F       0.784817\n",
       "F     GM      0.784817\n",
       "PCAR  STLA    0.799574\n",
       "STLA  PCAR    0.799574\n",
       "TTM   PCAR    0.800064\n",
       "PCAR  TTM     0.800064\n",
       "OSK   PCAR    0.800140\n",
       "PCAR  OSK     0.800140\n",
       "STLA  TSLA    0.813897\n",
       "TSLA  STLA    0.813897\n",
       "dtype: float64"
      ]
     },
     "execution_count": 12,
     "metadata": {},
     "output_type": "execute_result"
    }
   ],
   "source": [
    "# Unstack correlation matrix and get pairs with corr coefficient >= 0.8\n",
    "corr_unstacked = corr.unstack()\n",
    "sorted_corr = corr_unstacked.sort_values(kind='quicksort')\n",
    "\n",
    "pairs = sorted_corr[np.logical_and(sorted_corr < 1.0, sorted_corr >= 0.7)]\n",
    "pairs"
   ]
  },
  {
   "cell_type": "markdown",
   "id": "b7a6303f-aacc-420a-950a-c81d153c1839",
   "metadata": {},
   "source": [
    "### 1.4 Testing for Cointegration (Engle-Granger)\n",
    "Out of the highly-correlated pairs we have found, we attempt to find cointegrated pairs of stocks as their market value as a pair will be stationary. This stationarity implies that the pair's market value will not diverge too much, making it a suitable candidate for a mean-reversion strategy. \n",
    "\n",
    "The Engle-Granger test, which tests for cointegration, has a null hypothesis that no cointegration exists. We hence iterate through the filtered pairs have a high correlation coefficient, and return those with p-value < 0.05."
   ]
  },
  {
   "cell_type": "code",
   "execution_count": 13,
   "id": "cfafe70a-68cd-4f85-8e90-fec7d2c35544",
   "metadata": {},
   "outputs": [
    {
     "name": "stdout",
     "output_type": "stream",
     "text": [
      "GM and OSK are cointegrated\n",
      "GM and TM are cointegrated\n"
     ]
    }
   ],
   "source": [
    "# Engle-granger test\n",
    "def engle_granger(asset1, asset2, prices):\n",
    "    _, p, _ = coint(prices[asset1], prices[asset2])\n",
    "    \n",
    "    if p < 0.05:\n",
    "        print(f'{asset1} and {asset2} are cointegrated')\n",
    "        \n",
    "pairs = pairs.index\n",
    "pairs = pairs.tolist()\n",
    "for asset1, asset2 in pairs:\n",
    "    engle_granger(asset1, asset2, prices)\n",
    "    "
   ]
  },
  {
   "cell_type": "markdown",
   "id": "bc23ce8e-22b8-4606-bc05-8b5214f0ff4c",
   "metadata": {
    "tags": []
   },
   "source": [
    "#### 1.4 Choosing a final pair\n",
    "To choose a final pair, we pick the pair that has a higher correlation coefficient value as their prices are more likely to move together.Hence, we pick GM and TM."
   ]
  },
  {
   "cell_type": "code",
   "execution_count": 14,
   "id": "0392a9cc-0b0e-4a7e-a137-4d05ca4ad528",
   "metadata": {},
   "outputs": [
    {
     "data": {
      "image/png": "[encoded data removed]",
      "text/plain": [
       "<Figure size 432x288 with 1 Axes>"
      ]
     },
     "metadata": {
      "needs_background": "light"
     },
     "output_type": "display_data"
    }
   ],
   "source": [
    "prices['GM'].plot(c='r')\n",
    "prices['TM'].plot(c='b')\n",
    "plt.legend()\n",
    "plt.xlabel('Prices')\n",
    "plt.title('GM and TM Prices');"
   ]
  },
  {
   "cell_type": "markdown",
   "id": "e11b1ad3-006b-4c3e-a592-40b2aae73579",
   "metadata": {},
   "source": [
    "## 2. Strategy\n",
    "We create a spread between the selected pair, with one pair hedged the against another. Our exit and entry thresholds will then be determined by the z-score of the spread based on the training set."
   ]
  },
  {
   "cell_type": "markdown",
   "id": "ab80d5f4-b13d-4b3f-8920-fab6c3b94b22",
   "metadata": {},
   "source": [
    "#### 2.1 Determing Hedge Ratio\n",
    "As the order of assets in the Engle-Granger test matters, we hence use GM as our target, and will be performing regression of GM against TM to find the hedge ratio for our spread. This will all be done on the training set."
   ]
  },
  {
   "cell_type": "code",
   "execution_count": 15,
   "id": "6199df6d-b060-44f1-baa6-16c115cf9353",
   "metadata": {},
   "outputs": [],
   "source": [
    "model = sm.OLS(prices.iloc[train]['GM'], prices.iloc[train]['TM']).fit() "
   ]
  },
  {
   "cell_type": "code",
   "execution_count": 16,
   "id": "1ae42284-aab0-4772-9f63-a127bf94b21b",
   "metadata": {},
   "outputs": [
    {
     "data": {
      "text/plain": [
       "0.24049519112188672"
      ]
     },
     "execution_count": 16,
     "metadata": {},
     "output_type": "execute_result"
    }
   ],
   "source": [
    "hedge = model.params[0]\n",
    "hedge"
   ]
  },
  {
   "cell_type": "markdown",
   "id": "2087b9ae-1e14-454b-91af-b4cf19726efe",
   "metadata": {},
   "source": [
    "#### 2.2 Creating spread\n",
    "We take the spread between the two pairs as our financial instrument"
   ]
  },
  {
   "cell_type": "code",
   "execution_count": 17,
   "id": "eed44f7b-7066-43c8-9e68-c1e763627cc9",
   "metadata": {},
   "outputs": [
    {
     "data": {
      "image/png": "[encoded data removed]",
      "text/plain": [
       "<Figure size 432x288 with 1 Axes>"
      ]
     },
     "metadata": {
      "needs_background": "light"
     },
     "output_type": "display_data"
    }
   ],
   "source": [
    "spread = prices['GM'] - hedge * prices['TM']\n",
    "\n",
    "# Plot spread for training set\n",
    "\n",
    "\n",
    "plt.plot(spread)\n",
    "plt.ylabel(f\"Spread\")\n",
    "plt.xlabel(\"Days\")\n",
    "plt.title(f\"Training Spread\");"
   ]
  },
  {
   "cell_type": "markdown",
   "id": "9f579027-5b59-4f6c-89b4-3f19bd167f63",
   "metadata": {},
   "source": [
    "#### 2.3 Creating z-scores based on training data\n",
    "The z-scores will be used to execute the follow strategy:\n",
    "- Short spread when z >= 1\n",
    "- Long spread when z <= -1\n",
    "- Close short when z <= 0.5\n",
    "- Close long when z >= -0.5\n",
    "\n",
    "This strategy is employed to capture statistical arbitrage, taking advantage of the fact that the spread will return to equilibrium."
   ]
  },
  {
   "cell_type": "code",
   "execution_count": 18,
   "id": "1dcbd9e6-320c-4137-b352-5162f8df71d4",
   "metadata": {},
   "outputs": [],
   "source": [
    "mu = np.mean(spread.iloc[train])\n",
    "std = np.std(spread.iloc[train])\n",
    "zscore = (spread - mu) / std"
   ]
  },
  {
   "cell_type": "markdown",
   "id": "3cd3c3e9-e289-4cf2-a59c-3ae1674335e9",
   "metadata": {
    "tags": []
   },
   "source": [
    "## 3. Backtesting\n",
    "Backtesting of the strategy is done here on the entire dataset. Note that any testing done on the training set here would contain look-forward bias, but we only seek to find the results of our strategy out-of-sample based on the training set."
   ]
  },
  {
   "cell_type": "markdown",
   "id": "060fd884-888d-4330-872b-81c5bedf7696",
   "metadata": {},
   "source": [
    "#### 3.1 Backtesting Using Exit and Entry Thresholds"
   ]
  },
  {
   "cell_type": "code",
   "execution_count": 19,
   "id": "64390190-f8d8-4552-8590-35d1d0b201dc",
   "metadata": {},
   "outputs": [],
   "source": [
    "# Adding positions to DataFrame\n",
    "\n",
    "prices['LongGM'] = 0\n",
    "prices['LongTM'] = 0\n",
    "prices['ShortGM'] = 0\n",
    "prices['ShortTM'] = 0\n",
    "    \n",
    "prices.loc[zscore >= 1, ('ShortGM', 'ShortTM')] = [-1, 1]\n",
    "\n",
    "# Long spread\n",
    "prices.loc[zscore <= -1, ('LongGM', 'LongTM')] = [1, -1]\n",
    "\n",
    "# Exit short positions\n",
    "prices.loc[zscore <= 0.5, ('ShortGM', 'ShortTM')] = 0\n",
    "\n",
    "# Exit long positions\n",
    "# Long spread\n",
    "prices.loc[zscore >= -0.5, ('LongGM', 'LongTM')] = 0\n",
    "\n",
    "# Ensure existing positions carried forward unless exit signal\n",
    "prices.fillna(method='ffill', inplace=True)"
   ]
  },
  {
   "cell_type": "code",
   "execution_count": 20,
   "id": "734d9c50-08dc-4a81-abca-a11d8f02507e",
   "metadata": {
    "tags": []
   },
   "outputs": [],
   "source": [
    "# Finding positions for eachh day\n",
    "long = prices.loc[:, ('LongGM', 'LongTM')]\n",
    "short = prices.loc[:, ('ShortGM', 'ShortTM')]\n",
    "\n",
    "positions = np.array(long) + np.array(short)\n",
    "positions = pd.DataFrame(positions)"
   ]
  },
  {
   "cell_type": "markdown",
   "id": "a99637cc-463e-43ff-8256-64223362912a",
   "metadata": {},
   "source": [
    "#### 3.2 Sharpe Ratio\n",
    "We calculate the Sharpe Ratio of the strategy on the test set. We disregard the in-sample training Sharpe as that would result in look-ahead bias. As this strategy does not trade frequently, we can ignore the risk-free rate in our calculations of the Sharpe ratio."
   ]
  },
  {
   "cell_type": "code",
   "execution_count": 21,
   "id": "ee69f2a4-576c-4d4e-a903-be24226723e0",
   "metadata": {},
   "outputs": [],
   "source": [
    "# Returns from training set\n",
    "returns = prices.loc[:, ('GM', 'TM')].pct_change()"
   ]
  },
  {
   "cell_type": "code",
   "execution_count": 22,
   "id": "b4e7a007-0be5-49ec-b253-2c7ed50a1df8",
   "metadata": {},
   "outputs": [
    {
     "data": {
      "text/plain": [
       "Text(0.5, 1.0, 'Out-of-sample PnL')"
      ]
     },
     "execution_count": 22,
     "metadata": {},
     "output_type": "execute_result"
    },
    {
     "data": {
      "image/png": "[encoded data removed]",
      "text/plain": [
       "<Figure size 432x288 with 1 Axes>"
      ]
     },
     "metadata": {
      "needs_background": "light"
     },
     "output_type": "display_data"
    }
   ],
   "source": [
    "# Daily PnL based on our positions\n",
    "pnl = np.array(positions.shift()) * np.array(returns)\n",
    "pnl = pnl.sum(axis=1)\n",
    "\n",
    "plt.plot(prices.iloc[test].index, pnl[test])\n",
    "plt.ylabel('PnL')\n",
    "plt.xlabel('Date')\n",
    "plt.title('Out-of-sample PnL')"
   ]
  },
  {
   "cell_type": "code",
   "execution_count": 23,
   "id": "d2704198-bac6-4430-bcca-fc57d31a66da",
   "metadata": {},
   "outputs": [
    {
     "name": "stdout",
     "output_type": "stream",
     "text": [
      "Out-of-sample Sharpe is 0.44826347572900516\n"
     ]
    }
   ],
   "source": [
    "# Sharpe ratio for test set\n",
    "testSharpe = np.sqrt(252) * np.mean(pnl[test]) / np.std(pnl[test])\n",
    "print(f'Out-of-sample Sharpe is {testSharpe}')"
   ]
  },
  {
   "cell_type": "markdown",
   "id": "83ddcbdf-a95b-4374-9e0c-8a4acf6395fd",
   "metadata": {},
   "source": [
    "## 4. Risk Management\n",
    "Determination of the optimal leverage of the strategy in order to maximise long-term compounded growth can be done via the Kelly formula:\n",
    "$$f_{i} = \\frac{m_{i}}{s_{i}^{2}}$$\n",
    "\n",
    "The Kelly formula should be updated constantly based on a lookback window in order to find the new optimal leverage. Furthermore, any change in equity should be taken into account before applying the leverage. Here, we find the optimum leverage that should be applied using the entire test set."
   ]
  },
  {
   "cell_type": "code",
   "execution_count": 24,
   "id": "b88cdd00-767e-4efc-b8bf-908b20368776",
   "metadata": {},
   "outputs": [
    {
     "name": "stdout",
     "output_type": "stream",
     "text": [
      "Mean Excess Returns: 0.1430160309879269\n",
      "Variance of Excess Returns: 0.10178944209804387\n",
      "Estimated optimal leverage: 1.4050183205658349\n"
     ]
    }
   ],
   "source": [
    "def kelly(dailyret):\n",
    "    m = 252 * np.mean(dailyret)\n",
    "    s = 252 * np.std(dailyret)**2\n",
    "    f = m / s\n",
    "    print(f'Mean Excess Returns: {m}')\n",
    "    print(f'Variance of Excess Returns: {s}')\n",
    "    print(f'Estimated optimal leverage: {f}')\n",
    "\n",
    "kelly(pnl[test])"
   ]
  },
  {
   "cell_type": "code",
   "execution_count": 25,
   "id": "52ac4890-00bb-4373-9938-a7a2e8f49ef5",
   "metadata": {},
   "outputs": [
    {
     "name": "stdout",
     "output_type": "stream",
     "text": [
      "Annualized compounded growth rate: 0.1004700718363242\n"
     ]
    }
   ],
   "source": [
    "def growth(riskfreerate, sharpe):\n",
    "    g = riskfreerate + sharpe**2 / 2\n",
    "    print(f'Annualized compounded growth rate: {g}')\n",
    "    \n",
    "growth(0, testSharpe)"
   ]
  },
  {
   "cell_type": "markdown",
   "id": "69d751b6-60b0-4478-9d66-49b5a3777d69",
   "metadata": {
    "tags": []
   },
   "source": [
    "## 5. Optimal Holding Period (Ornstein-Uhlenbeck)\n",
    "Another exit signal we can employ is the holding period. In order to find the optimal holding period for our strategy, we employ the Ornstein-Uhlenbeck Formula to model our mean-reverting strategy to find the expected time for the spread to revert back to half its standard deviation. The formula is as shown:\n",
    "$$dz(t) = -\\theta(z(t) - \\mu) + dW$$\n",
    "\n",
    "After using Linear Regression to find the theta value, we can then calculate the half-life using:\n",
    "$$\\frac{ln(2)}{\\theta}$$"
   ]
  },
  {
   "cell_type": "code",
   "execution_count": 26,
   "id": "a9cd4abb-8ed1-446e-b2cf-cb930ec4cc06",
   "metadata": {},
   "outputs": [],
   "source": [
    "# Find dz, the daily change of the spread\n",
    "z = spread\n",
    "prev_z = z.shift()\n",
    "dz = z - prev_z\n",
    "\n",
    "# Cleaning up NaN\n",
    "dz = dz[1:,]\n",
    "prev_z = prev_z[1:,]"
   ]
  },
  {
   "cell_type": "code",
   "execution_count": 27,
   "id": "925d28d3-a965-4b0c-a4ba-583f45b36a94",
   "metadata": {},
   "outputs": [],
   "source": [
    "# Finding theta\n",
    "model2 = sm.OLS(dz, prev_z - np.mean(prev_z)).fit()\n",
    "theta = model2. params[0]"
   ]
  },
  {
   "cell_type": "code",
   "execution_count": 28,
   "id": "b3dd64b5-c279-4f45-b81d-cf0ccafc4fa4",
   "metadata": {},
   "outputs": [
    {
     "data": {
      "text/plain": [
       "104.76780239908722"
      ]
     },
     "execution_count": 28,
     "metadata": {},
     "output_type": "execute_result"
    }
   ],
   "source": [
    "# Half-life\n",
    "halflife = - np.log(2) / theta\n",
    "halflife"
   ]
  },
  {
   "cell_type": "markdown",
   "id": "63bb4461-9f81-4680-812f-5a69d8414443",
   "metadata": {},
   "source": [
    "From the half-life approximation, our estimated optimal holding period should be ~100 days. This exit signal can be used alongside our exit threshold to close positions whenever either criterion is met. However, a lookback period should be employed to ensure that these trading parameters are constantly optimised, and not fall victim to regime shifts."
   ]
  },
  {
   "cell_type": "markdown",
   "id": "0704031c-1686-4088-a7a9-147d0a3b9b6b",
   "metadata": {
    "tags": []
   },
   "source": [
    "## 6. Future Considerations\n",
    "- Using an appropriate lookback window to calculate the rolling hedge ratio in order to prevent look-ahead bias when testing our in-sample Sharpe.\n",
    "- Optimising of entry and exit thresholds, while taking measures to prevent data-snooping bias.\n",
    "- If more strategies are employed alongside this one, we make employ the Kelly formula to find optimal leverages for our portfolio."
   ]
  }
 ],
 "metadata": {
  "kernelspec": {
   "display_name": "Python 3 (ipykernel)",
   "language": "python",
   "name": "python3"
  },
  "language_info": {
   "codemirror_mode": {
    "name": "ipython",
    "version": 3
   },
   "file_extension": ".py",
   "mimetype": "text/x-python",
   "name": "python",
   "nbconvert_exporter": "python",
   "pygments_lexer": "ipython3",
   "version": "3.10.0"
  }
 },
 "nbformat": 4,
 "nbformat_minor": 5
}
